{
 "cells": [
  {
   "cell_type": "markdown",
   "metadata": {},
   "source": [
    "# Distribución de Bernoulli\n",
    "\n",
    "- Supongamos una variable aleatoria $\\mathcal X$ que tiene dos valores posibles: 1 y 0. \n",
    "- Supongamos que la probabilidad de que la variable aleatoria $\\mathcal X$ tiene una probabilidad p de tomar el  valor 1 y una probabilidad q=1-p de tomar el valor 0.\n",
    "- Se dice entonces que la variable aleatoria $\\mathcal X$ tiene distribución de Bernoulli con parámetro p: \n",
    "\n",
    "$$ \\mathcal X \\sim Be(p) $$\n",
    "\n",
    "- Podemos estimar el valor de p repitiendo un número grande n de veces el experimento:\n",
    "\n",
    "$$ \\hat{p} = \\lim_{n\\to\\infty} \\frac{\\#1}{n} $$\n",
    "\n",
    "donde #1 es la cantidad de veces que la variable aleatoria tomó el valor '1' durante los n experimentos.\n",
    "\n",
    "## Ejemplo:\n",
    "\n",
    "\"Lanzar una moneda, probabilidad de conseguir que salga cruz\".\n",
    "\n",
    "Se trata de un solo experimento, con dos resultados posibles: el éxito (p) se considerará sacar cruz. Valdrá 0,5. El fracaso (q) que saliera cara, que vale (1 - p) = 1 - 0,5 = 0,5.\n",
    "\n",
    "La variable aleatoria X medirá \"número de cruces que salen en un lanzamiento\", y sólo existirán dos resultados posibles: 0 (ninguna cruz, es decir, salir cara) y 1 (una cruz).\n",
    "\n",
    "Por tanto, la v.a. X se distribuirá como una Bernoulli, ya que cumple todos los requisitos.\n",
    "\n",
    "$$X \\sim Be(0,5)$$\n",
    "\n",
    "$$P(X = 0) = 0,5$$\n",
    "\n",
    "$$P(X = 1) = 0,5$$\n",
    "\n",
    "\n",
    "## Ejemplo:\n",
    "\n",
    "\"Lanzar un dado y salir un 6\".\n",
    "\n",
    "Cuando lanzamos un dado tenemos 6 posibles resultados:\n",
    "\n",
    "$$\\Omega = \\{1, 2, 3, 4, 5, 6\\}$$\n",
    "\n",
    "Estamos realizando un único experimento (lanzar el dado una sola vez).\n",
    "\n",
    "Se considera éxito sacar un 6, por tanto, la probabilidad será 1/6.\n",
    "\n",
    "$$p = 1/6$$\n",
    "\n",
    "Se considera éxito sacar un 6, por tanto, se considera fracaso sacar cualquier otro resultado.\n",
    "\n",
    "$$q = 1 - p = 1- 1/6 = 5/6$$\n",
    "\n",
    "La variable aleatoria X medirá \"número de veces que sale un 6\", y solo existen dos valores posibles, 0 (que no salga 6) y 1 (que salga un 6).\n",
    "\n",
    "Por tanto, la variable aleatoria X se distribuye como una Bernoulli de parámetro $p = \\frac{1}{6} $\n",
    "\n",
    "$$X \\sim Be(1/6)$$"
   ]
  },
  {
   "cell_type": "markdown",
   "metadata": {},
   "source": [
    "# Distribución binomial\n",
    "\n",
    "Si definimos ahora la variable aleatoria $\\mathcal X $ como la suma de n variables aleatorias $X_i \\sim Be(p)$ independientes e idénticamente distribuídas, decimos que $\\mathcal X$ tiene distribución binomial de parámetros n y p:\n",
    "\n",
    "$$\\mathcal X \\sim B(n,p)$$\n",
    "\n",
    "donde:\n",
    "\n",
    "$$\\mathcal X = \\sum_n{\\mathcal X_i}$$\n",
    "\n",
    "Como los valores posibles de $\\mathcal X_i$ son 1 (éxito) y 0 (fracaso) entonces $\\mathcal X$ será la cantidad de éxitos luego de reproducir el experimento n veces.\n",
    "\n",
    "La probabilidad de obtener una salida específica en particular con #éxitos y #fracasos:\n",
    "\n",
    "$$P(\\#éxitos, \\#fracasos)=p^{(\\#éxitos)}.q^{(\\#fracasos)}=p^{(\\#éxitos)}.(1-p)^{(n-\\#éxitos)}$$\n",
    "\n",
    "Por lo que su función de probabilidad se podrá obtener contando el número de casos para cada número de éxitos:\n",
    "\n",
    "$$\\!f(x)={n \\choose x}p^x(1-p)^{n-x}, \\,\\,\\,\\,0\\leq p\\leq 1$$\n",
    "\n",
    "donde $x = \\{0, 1, 2, \\dots , n\\},$\n",
    "\n",
    "siendo $\\!{n \\choose x} = \\frac{n!}{x!(n-x)!} \\,\\!$ las combinaciones de $n \\,\\!$ en $x \\,\\!$ ($n \\,\\!$ elementos tomados de $x \\,\\!$ en $x \\,\\!$)\n",
    "\n",
    "## Ejemplo\n",
    "\n",
    "Supongamos que se lanza un dado (con 6 caras) 51 veces y queremos conocer la probabilidad de que el número 3 salga 20 veces. En este caso tenemos una X ~ B(51, 1/6) y la probabilidad sería P(X=20):\n",
    "\n",
    "$$\\!P(X=20)={51 \\choose 20}(1/6)^{20}(1-1/6)^{51-20}=0.0000744 \\,\\!$$\n"
   ]
  },
  {
   "cell_type": "markdown",
   "metadata": {},
   "source": [
    "# Distribución categórica\n",
    "\n",
    "La distribución categórica es una generalización de la distribución de Bernoulli. La misma aplica cuando tenemos un solo experimento con k posibles resultados o categorías ($x_1,x_2,...,x_k$) con probabilidades:\n",
    "\n",
    "$p_1,p_2,...,p_k$ de forma que $\\sum_{i=1}^{k}p_i=1$.\n",
    "\n",
    "Para estimar los parámetros $p_i$ de una distribución categórica se puede realizar el experimento n veces y a partir de ello calcular las $p_i$ como:\n",
    "\n",
    "$$\\hat{p_i}=\\lim_{n\\to\\infty} \\frac{\\#categoría_i}{n}$$\n",
    "\n",
    "donde $\\#categoría_i$ es la cantidad de veces que salió la categoría i como resultado del experimento.\n",
    "\n",
    "## Ejemplos:\n",
    "\n",
    "- Dado: 6 categorías con probabilidad $\\frac{1}{6}$.\n",
    "- Abrir un libro en una página al azar y escoger también al azar una palabra. En este caso la cantidad de categorías es la cantidad de palabras definida en un vocabulario de referencia."
   ]
  },
  {
   "cell_type": "markdown",
   "metadata": {},
   "source": [
    "# Distribución Multinomial\n",
    "\n",
    "La distribución multinomial es equivalente a la distribución binomial pero en vez de cada uno de los experimentos tener dos salidas posibles, ahora tiene k categorías posibles como resultado.\n",
    "\n",
    "\n",
    "La probabilidad de haber obtenido un resultado en particular luego de haber corrido el experimento categórico N veces de manera independiente es:\n",
    "\n",
    "$$P=p_1^{x_1}\\cdots p_k^{x_k}$$\n",
    "\n",
    "Si contamos cuántas veces podemos tener cada uno de los resultados, la función de probabilidad de la distribución multinomial es como sigue:\n",
    "\n",
    "$$ \\begin{align}\n",
    "f(x_1,\\ldots,x_k;n,p_1,\\ldots,p_k) & {} = \\Pr(X_1 = x_1\\mbox{ y }\\dots\\mbox{ y }X_k = x_k) \\\\  \\\\\n",
    "& {} = \\begin{cases} { \\displaystyle {n! \\over x_1!\\cdots x_k!}p_1^{x_1}\\cdots p_k^{x_k}}, \\quad &\n",
    "\\mbox{cuando } \\sum_{i=1}^k x_i=n \\\\  \\\\\n",
    "0 & \\mbox{En otros casos} \\end{cases}\n",
    "\\end{align}\n",
    "$$\n",
    "\n",
    "Para enteros no negativos x<sub>1</sub>, ..., x<sub>k</sub>."
   ]
  },
  {
   "cell_type": "markdown",
   "metadata": {},
   "source": [
    "# Discusión:\n",
    "\n",
    "- k cantidad de palabras en un vocabulario.\n",
    "- Un tipo de documento puede ser modelado como su distribución de probabilidades de ocurrencia de cada palabra de un vocabulario.\n",
    "\n",
    "O = \"La niña la quiere\"\n",
    "\n",
    "$$ P(O|vocabulario)= p^2_{la}.p_{niña}.p_{quiere} $$\n",
    "\n",
    "- ¿Se puede hacer esto? ¿Se cumple la condición de independencia?"
   ]
  },
  {
   "cell_type": "markdown",
   "metadata": {
    "collapsed": true
   },
   "source": [
    "# Distribución Gaussiana\n",
    "También conocida como distribución normal, la distribución gaussiana resulta de gran importancia ya que permite modelar una gran cantidad de procesos físicos, sociales y naturales. \n",
    "También, por el teorema del límite central sabemos que la suma de varialbes aleatearias de varias distribuciones, como la binomial o de Pisson, tienden a la gaussiana a medida que aumenta la cantidad de términos en la suma.\n",
    "\n",
    "Sus parametros son la media $ \\mu $ y la varianza $ \\sigma^2 $ y su función de densidad de probabilidad esta dada por la siguiente ecuación:\n",
    "\\begin{align}\n",
    "f(v) & = \\frac{1}{\\sqrt{2\\pi\\sigma^2}}e^{-\\frac{(v-\\mu)²}{2\\sigma^2}}\n",
    "\\end{align}\n",
    "\n",
    "## Ejemplos:\n",
    "Se pueden encontrar usos de la distribución gaussiana en todas las áreas de la ciencia, algunos ejemplos especificos pueden ser la estatura de una población ó el nivel de ruido en una seña, ruido blanco gaussiano aditivo (AWGN).\n",
    "## Uso en python"
   ]
  },
  {
   "cell_type": "code",
   "execution_count": 3,
   "metadata": {},
   "outputs": [
    {
     "data": {
      "image/png": "[encoded data removed]",
      "text/plain": [
       "<matplotlib.figure.Figure at 0x7efcdf8525c0>"
      ]
     },
     "metadata": {},
     "output_type": "display_data"
    }
   ],
   "source": [
    "#generar una distribución normal\n",
    "#para generar datos con una distribución normal se puede usar numpy\n",
    "import numpy as np\n",
    "mean = 10\n",
    "sigma = 0.1\n",
    "N = 1000\n",
    "datos1 = np.random.normal(mean,sigma,N)\n",
    "mean = 0\n",
    "sigma = 1\n",
    "N = 1000\n",
    "datos2 = np.random.normal(mean,sigma,N)\n",
    "\n",
    "import matplotlib.pyplot as plt\n",
    "plt.figure()\n",
    "plt.plot(datos1,label='media = 1, sigma = 0.01')\n",
    "plt.plot(datos2,label='media = 0, sigma = 1')\n",
    "plt.legend(loc='center right')\n",
    "plt.title('Datos obtenidos cons distribuciones normales')\n",
    "plt.show()"
   ]
  },
  {
   "cell_type": "code",
   "execution_count": 18,
   "metadata": {},
   "outputs": [
    {
     "data": {
      "image/png": "[encoded data removed]",
      "text/plain": [
       "<matplotlib.figure.Figure at 0x7efd0fcce208>"
      ]
     },
     "metadata": {},
     "output_type": "display_data"
    }
   ],
   "source": [
    "#Generar la pdf\n",
    "#para generar la pdf se puede usar scipy\n",
    "from scipy.stats import multivariate_normal #esta función se puede usar para generar gaussianas de más dimensiones\n",
    "x = np.arange(1000) * 0.1 \n",
    "mean=50\n",
    "cov = 50\n",
    "plt.figure()\n",
    "plt.plot(x,multivariate_normal.pdf(x,mean,cov),label='normal media = 50 cov=[50] ')\n",
    "plt.legend(loc='upper right')\n",
    "plt.show()"
   ]
  },
  {
   "cell_type": "code",
   "execution_count": null,
   "metadata": {
    "collapsed": true
   },
   "outputs": [],
   "source": []
  }
 ],
 "metadata": {
  "kernelspec": {
   "display_name": "Python 3",
   "language": "python",
   "name": "python3"
  },
  "language_info": {
   "codemirror_mode": {
    "name": "ipython",
    "version": 3
   },
   "file_extension": ".py",
   "mimetype": "text/x-python",
   "name": "python",
   "nbconvert_exporter": "python",
   "pygments_lexer": "ipython3",
   "version": "3.6.1"
  },
  "toc": {
   "colors": {
    "hover_highlight": "#DAA520",
    "navigate_num": "#000000",
    "navigate_text": "#333333",
    "running_highlight": "#FF0000",
    "selected_highlight": "#FFD700",
    "sidebar_border": "#EEEEEE",
    "wrapper_background": "#FFFFFF"
   },
   "moveMenuLeft": true,
   "nav_menu": {
    "height": "156px",
    "width": "252px"
   },
   "navigate_menu": true,
   "number_sections": true,
   "sideBar": true,
   "threshold": 4,
   "toc_cell": false,
   "toc_section_display": "block",
   "toc_window_display": false,
   "widenNotebook": false
  }
 },
 "nbformat": 4,
 "nbformat_minor": 2
}
